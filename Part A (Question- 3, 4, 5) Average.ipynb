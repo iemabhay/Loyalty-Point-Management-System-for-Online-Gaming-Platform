{
 "cells": [
  {
   "cell_type": "code",
   "execution_count": 1,
   "id": "23f954ae",
   "metadata": {},
   "outputs": [],
   "source": [
    "import pandas as pd"
   ]
  },
  {
   "cell_type": "code",
   "execution_count": 2,
   "id": "f2815a58",
   "metadata": {},
   "outputs": [],
   "source": [
    "gameplay = pd.read_csv('User Gameplay data.csv')\n",
    "withdraw = pd.read_csv('Withdrawal Data.csv')\n",
    "deposit = pd.read_csv('Deposit Data.csv')"
   ]
  },
  {
   "cell_type": "code",
   "execution_count": 3,
   "id": "f800cae3",
   "metadata": {
    "scrolled": true
   },
   "outputs": [],
   "source": [
    "deposit.set_index('Datetime', inplace=True)"
   ]
  },
  {
   "cell_type": "code",
   "execution_count": 4,
   "id": "34d516d5",
   "metadata": {},
   "outputs": [],
   "source": [
    "deposit = deposit.rename(columns={'Amount': 'Deposit Amount'})"
   ]
  },
  {
   "cell_type": "code",
   "execution_count": 5,
   "id": "e3bbd66b",
   "metadata": {},
   "outputs": [
    {
     "data": {
      "text/html": [
       "<div>\n",
       "<style scoped>\n",
       "    .dataframe tbody tr th:only-of-type {\n",
       "        vertical-align: middle;\n",
       "    }\n",
       "\n",
       "    .dataframe tbody tr th {\n",
       "        vertical-align: top;\n",
       "    }\n",
       "\n",
       "    .dataframe thead th {\n",
       "        text-align: right;\n",
       "    }\n",
       "</style>\n",
       "<table border=\"1\" class=\"dataframe\">\n",
       "  <thead>\n",
       "    <tr style=\"text-align: right;\">\n",
       "      <th></th>\n",
       "      <th>User Id</th>\n",
       "      <th>Deposit Amount</th>\n",
       "    </tr>\n",
       "    <tr>\n",
       "      <th>Datetime</th>\n",
       "      <th></th>\n",
       "      <th></th>\n",
       "    </tr>\n",
       "  </thead>\n",
       "  <tbody>\n",
       "    <tr>\n",
       "      <th>01-10-2022 0:03</th>\n",
       "      <td>357</td>\n",
       "      <td>2000</td>\n",
       "    </tr>\n",
       "    <tr>\n",
       "      <th>01-10-2022 0:03</th>\n",
       "      <td>776</td>\n",
       "      <td>2500</td>\n",
       "    </tr>\n",
       "    <tr>\n",
       "      <th>01-10-2022 0:06</th>\n",
       "      <td>492</td>\n",
       "      <td>5000</td>\n",
       "    </tr>\n",
       "    <tr>\n",
       "      <th>01-10-2022 0:07</th>\n",
       "      <td>803</td>\n",
       "      <td>5000</td>\n",
       "    </tr>\n",
       "    <tr>\n",
       "      <th>01-10-2022 0:09</th>\n",
       "      <td>875</td>\n",
       "      <td>1500</td>\n",
       "    </tr>\n",
       "    <tr>\n",
       "      <th>...</th>\n",
       "      <td>...</td>\n",
       "      <td>...</td>\n",
       "    </tr>\n",
       "    <tr>\n",
       "      <th>31-10-2022 23:57</th>\n",
       "      <td>654</td>\n",
       "      <td>1200</td>\n",
       "    </tr>\n",
       "    <tr>\n",
       "      <th>31-10-2022 23:58</th>\n",
       "      <td>980</td>\n",
       "      <td>200</td>\n",
       "    </tr>\n",
       "    <tr>\n",
       "      <th>31-10-2022 23:58</th>\n",
       "      <td>2</td>\n",
       "      <td>40000</td>\n",
       "    </tr>\n",
       "    <tr>\n",
       "      <th>31-10-2022 23:58</th>\n",
       "      <td>612</td>\n",
       "      <td>2800</td>\n",
       "    </tr>\n",
       "    <tr>\n",
       "      <th>31-10-2022 23:59</th>\n",
       "      <td>786</td>\n",
       "      <td>20000</td>\n",
       "    </tr>\n",
       "  </tbody>\n",
       "</table>\n",
       "<p>17438 rows × 2 columns</p>\n",
       "</div>"
      ],
      "text/plain": [
       "                  User Id  Deposit Amount\n",
       "Datetime                                 \n",
       "01-10-2022 0:03       357            2000\n",
       "01-10-2022 0:03       776            2500\n",
       "01-10-2022 0:06       492            5000\n",
       "01-10-2022 0:07       803            5000\n",
       "01-10-2022 0:09       875            1500\n",
       "...                   ...             ...\n",
       "31-10-2022 23:57      654            1200\n",
       "31-10-2022 23:58      980             200\n",
       "31-10-2022 23:58        2           40000\n",
       "31-10-2022 23:58      612            2800\n",
       "31-10-2022 23:59      786           20000\n",
       "\n",
       "[17438 rows x 2 columns]"
      ]
     },
     "execution_count": 5,
     "metadata": {},
     "output_type": "execute_result"
    }
   ],
   "source": [
    "deposit"
   ]
  },
  {
   "cell_type": "code",
   "execution_count": 6,
   "id": "0171ddb7",
   "metadata": {},
   "outputs": [],
   "source": [
    "total_deposit= deposit.groupby('User Id').agg({'Deposit Amount': 'sum'}).reset_index()"
   ]
  },
  {
   "cell_type": "code",
   "execution_count": 7,
   "id": "6f8c3fcf",
   "metadata": {},
   "outputs": [],
   "source": [
    "num_times_deposit = deposit.groupby('User Id').size().reset_index(name='no. of times deposit money')"
   ]
  },
  {
   "cell_type": "code",
   "execution_count": 8,
   "id": "990815ca",
   "metadata": {},
   "outputs": [],
   "source": [
    "deposit_data= pd.merge(total_deposit, num_times_deposit, on='User Id')"
   ]
  },
  {
   "cell_type": "code",
   "execution_count": 9,
   "id": "4bea96b2",
   "metadata": {
    "scrolled": true
   },
   "outputs": [
    {
     "data": {
      "text/html": [
       "<div>\n",
       "<style scoped>\n",
       "    .dataframe tbody tr th:only-of-type {\n",
       "        vertical-align: middle;\n",
       "    }\n",
       "\n",
       "    .dataframe tbody tr th {\n",
       "        vertical-align: top;\n",
       "    }\n",
       "\n",
       "    .dataframe thead th {\n",
       "        text-align: right;\n",
       "    }\n",
       "</style>\n",
       "<table border=\"1\" class=\"dataframe\">\n",
       "  <thead>\n",
       "    <tr style=\"text-align: right;\">\n",
       "      <th></th>\n",
       "      <th>User Id</th>\n",
       "      <th>Deposit Amount</th>\n",
       "      <th>no. of times deposit money</th>\n",
       "    </tr>\n",
       "  </thead>\n",
       "  <tbody>\n",
       "    <tr>\n",
       "      <th>0</th>\n",
       "      <td>1</td>\n",
       "      <td>5000</td>\n",
       "      <td>1</td>\n",
       "    </tr>\n",
       "    <tr>\n",
       "      <th>1</th>\n",
       "      <td>2</td>\n",
       "      <td>567000</td>\n",
       "      <td>20</td>\n",
       "    </tr>\n",
       "    <tr>\n",
       "      <th>2</th>\n",
       "      <td>3</td>\n",
       "      <td>40000</td>\n",
       "      <td>4</td>\n",
       "    </tr>\n",
       "    <tr>\n",
       "      <th>3</th>\n",
       "      <td>4</td>\n",
       "      <td>1750</td>\n",
       "      <td>1</td>\n",
       "    </tr>\n",
       "    <tr>\n",
       "      <th>4</th>\n",
       "      <td>5</td>\n",
       "      <td>74100</td>\n",
       "      <td>67</td>\n",
       "    </tr>\n",
       "    <tr>\n",
       "      <th>...</th>\n",
       "      <td>...</td>\n",
       "      <td>...</td>\n",
       "      <td>...</td>\n",
       "    </tr>\n",
       "    <tr>\n",
       "      <th>910</th>\n",
       "      <td>994</td>\n",
       "      <td>1400</td>\n",
       "      <td>1</td>\n",
       "    </tr>\n",
       "    <tr>\n",
       "      <th>911</th>\n",
       "      <td>995</td>\n",
       "      <td>34500</td>\n",
       "      <td>5</td>\n",
       "    </tr>\n",
       "    <tr>\n",
       "      <th>912</th>\n",
       "      <td>996</td>\n",
       "      <td>96400</td>\n",
       "      <td>31</td>\n",
       "    </tr>\n",
       "    <tr>\n",
       "      <th>913</th>\n",
       "      <td>998</td>\n",
       "      <td>7400</td>\n",
       "      <td>5</td>\n",
       "    </tr>\n",
       "    <tr>\n",
       "      <th>914</th>\n",
       "      <td>999</td>\n",
       "      <td>9000</td>\n",
       "      <td>3</td>\n",
       "    </tr>\n",
       "  </tbody>\n",
       "</table>\n",
       "<p>915 rows × 3 columns</p>\n",
       "</div>"
      ],
      "text/plain": [
       "     User Id  Deposit Amount  no. of times deposit money\n",
       "0          1            5000                           1\n",
       "1          2          567000                          20\n",
       "2          3           40000                           4\n",
       "3          4            1750                           1\n",
       "4          5           74100                          67\n",
       "..       ...             ...                         ...\n",
       "910      994            1400                           1\n",
       "911      995           34500                           5\n",
       "912      996           96400                          31\n",
       "913      998            7400                           5\n",
       "914      999            9000                           3\n",
       "\n",
       "[915 rows x 3 columns]"
      ]
     },
     "execution_count": 9,
     "metadata": {},
     "output_type": "execute_result"
    }
   ],
   "source": [
    "deposit_data"
   ]
  },
  {
   "cell_type": "code",
   "execution_count": 12,
   "id": "eec9da6f",
   "metadata": {
    "scrolled": true
   },
   "outputs": [
    {
     "data": {
      "text/plain": [
       "17438"
      ]
     },
     "execution_count": 12,
     "metadata": {},
     "output_type": "execute_result"
    }
   ],
   "source": [
    "deposit_data['no. of times deposit money'].sum()"
   ]
  },
  {
   "cell_type": "markdown",
   "id": "b1808943",
   "metadata": {},
   "source": [
    "#     "
   ]
  },
  {
   "cell_type": "markdown",
   "id": "963738a9",
   "metadata": {},
   "source": [
    "# Part A - Calculating loyalty points"
   ]
  },
  {
   "cell_type": "markdown",
   "id": "43a27dfc",
   "metadata": {},
   "source": [
    "# 3. What is the average deposit amount?"
   ]
  },
  {
   "cell_type": "markdown",
   "id": "814b66da",
   "metadata": {},
   "source": [
    "# 5492.185399701801"
   ]
  },
  {
   "cell_type": "code",
   "execution_count": 13,
   "id": "1b16d6ff",
   "metadata": {},
   "outputs": [],
   "source": [
    "avg_deposit = deposit_data['Deposit Amount'].sum()/17438"
   ]
  },
  {
   "cell_type": "code",
   "execution_count": 14,
   "id": "7872f8bd",
   "metadata": {},
   "outputs": [
    {
     "data": {
      "text/plain": [
       "5492.185399701801"
      ]
     },
     "execution_count": 14,
     "metadata": {},
     "output_type": "execute_result"
    }
   ],
   "source": [
    "avg_deposit"
   ]
  },
  {
   "cell_type": "markdown",
   "id": "19841c0a",
   "metadata": {},
   "source": [
    "#              "
   ]
  },
  {
   "cell_type": "markdown",
   "id": "d5a9124f",
   "metadata": {},
   "source": [
    "# 4. What is the average deposit amount per user in a month?"
   ]
  },
  {
   "cell_type": "code",
   "execution_count": 15,
   "id": "94f949b8",
   "metadata": {},
   "outputs": [],
   "source": [
    "deposit_data['Average deposit amount per user'] = deposit_data['Deposit Amount'] / 31"
   ]
  },
  {
   "cell_type": "code",
   "execution_count": 16,
   "id": "a2748db9",
   "metadata": {
    "scrolled": true
   },
   "outputs": [
    {
     "data": {
      "text/html": [
       "<div>\n",
       "<style scoped>\n",
       "    .dataframe tbody tr th:only-of-type {\n",
       "        vertical-align: middle;\n",
       "    }\n",
       "\n",
       "    .dataframe tbody tr th {\n",
       "        vertical-align: top;\n",
       "    }\n",
       "\n",
       "    .dataframe thead th {\n",
       "        text-align: right;\n",
       "    }\n",
       "</style>\n",
       "<table border=\"1\" class=\"dataframe\">\n",
       "  <thead>\n",
       "    <tr style=\"text-align: right;\">\n",
       "      <th></th>\n",
       "      <th>User Id</th>\n",
       "      <th>Deposit Amount</th>\n",
       "      <th>no. of times deposit money</th>\n",
       "      <th>Average deposit amount per user</th>\n",
       "    </tr>\n",
       "  </thead>\n",
       "  <tbody>\n",
       "    <tr>\n",
       "      <th>0</th>\n",
       "      <td>1</td>\n",
       "      <td>5000</td>\n",
       "      <td>1</td>\n",
       "      <td>161.290323</td>\n",
       "    </tr>\n",
       "    <tr>\n",
       "      <th>1</th>\n",
       "      <td>2</td>\n",
       "      <td>567000</td>\n",
       "      <td>20</td>\n",
       "      <td>18290.322581</td>\n",
       "    </tr>\n",
       "    <tr>\n",
       "      <th>2</th>\n",
       "      <td>3</td>\n",
       "      <td>40000</td>\n",
       "      <td>4</td>\n",
       "      <td>1290.322581</td>\n",
       "    </tr>\n",
       "    <tr>\n",
       "      <th>3</th>\n",
       "      <td>4</td>\n",
       "      <td>1750</td>\n",
       "      <td>1</td>\n",
       "      <td>56.451613</td>\n",
       "    </tr>\n",
       "    <tr>\n",
       "      <th>4</th>\n",
       "      <td>5</td>\n",
       "      <td>74100</td>\n",
       "      <td>67</td>\n",
       "      <td>2390.322581</td>\n",
       "    </tr>\n",
       "    <tr>\n",
       "      <th>...</th>\n",
       "      <td>...</td>\n",
       "      <td>...</td>\n",
       "      <td>...</td>\n",
       "      <td>...</td>\n",
       "    </tr>\n",
       "    <tr>\n",
       "      <th>910</th>\n",
       "      <td>994</td>\n",
       "      <td>1400</td>\n",
       "      <td>1</td>\n",
       "      <td>45.161290</td>\n",
       "    </tr>\n",
       "    <tr>\n",
       "      <th>911</th>\n",
       "      <td>995</td>\n",
       "      <td>34500</td>\n",
       "      <td>5</td>\n",
       "      <td>1112.903226</td>\n",
       "    </tr>\n",
       "    <tr>\n",
       "      <th>912</th>\n",
       "      <td>996</td>\n",
       "      <td>96400</td>\n",
       "      <td>31</td>\n",
       "      <td>3109.677419</td>\n",
       "    </tr>\n",
       "    <tr>\n",
       "      <th>913</th>\n",
       "      <td>998</td>\n",
       "      <td>7400</td>\n",
       "      <td>5</td>\n",
       "      <td>238.709677</td>\n",
       "    </tr>\n",
       "    <tr>\n",
       "      <th>914</th>\n",
       "      <td>999</td>\n",
       "      <td>9000</td>\n",
       "      <td>3</td>\n",
       "      <td>290.322581</td>\n",
       "    </tr>\n",
       "  </tbody>\n",
       "</table>\n",
       "<p>915 rows × 4 columns</p>\n",
       "</div>"
      ],
      "text/plain": [
       "     User Id  Deposit Amount  no. of times deposit money  \\\n",
       "0          1            5000                           1   \n",
       "1          2          567000                          20   \n",
       "2          3           40000                           4   \n",
       "3          4            1750                           1   \n",
       "4          5           74100                          67   \n",
       "..       ...             ...                         ...   \n",
       "910      994            1400                           1   \n",
       "911      995           34500                           5   \n",
       "912      996           96400                          31   \n",
       "913      998            7400                           5   \n",
       "914      999            9000                           3   \n",
       "\n",
       "     Average deposit amount per user  \n",
       "0                         161.290323  \n",
       "1                       18290.322581  \n",
       "2                        1290.322581  \n",
       "3                          56.451613  \n",
       "4                        2390.322581  \n",
       "..                               ...  \n",
       "910                        45.161290  \n",
       "911                      1112.903226  \n",
       "912                      3109.677419  \n",
       "913                       238.709677  \n",
       "914                       290.322581  \n",
       "\n",
       "[915 rows x 4 columns]"
      ]
     },
     "execution_count": 16,
     "metadata": {},
     "output_type": "execute_result"
    }
   ],
   "source": [
    "deposit_data #Avg deposit amount per user"
   ]
  },
  {
   "cell_type": "markdown",
   "id": "30a43e11",
   "metadata": {},
   "source": [
    "#                           "
   ]
  },
  {
   "cell_type": "markdown",
   "id": "8892639a",
   "metadata": {},
   "source": [
    "# 5. What is the average number of games played per user?"
   ]
  },
  {
   "cell_type": "markdown",
   "id": "1cb7544e",
   "metadata": {},
   "source": [
    "# 355.266"
   ]
  },
  {
   "cell_type": "code",
   "execution_count": 18,
   "id": "f184466d",
   "metadata": {},
   "outputs": [],
   "source": [
    "gameplay.set_index('Datetime', inplace=True)"
   ]
  },
  {
   "cell_type": "code",
   "execution_count": 20,
   "id": "bbaba3f4",
   "metadata": {},
   "outputs": [],
   "source": [
    "games_played= gameplay.groupby('User ID').size().reset_index(name='No. of games played by user')"
   ]
  },
  {
   "cell_type": "code",
   "execution_count": 21,
   "id": "c084cfc9",
   "metadata": {},
   "outputs": [
    {
     "data": {
      "text/html": [
       "<div>\n",
       "<style scoped>\n",
       "    .dataframe tbody tr th:only-of-type {\n",
       "        vertical-align: middle;\n",
       "    }\n",
       "\n",
       "    .dataframe tbody tr th {\n",
       "        vertical-align: top;\n",
       "    }\n",
       "\n",
       "    .dataframe thead th {\n",
       "        text-align: right;\n",
       "    }\n",
       "</style>\n",
       "<table border=\"1\" class=\"dataframe\">\n",
       "  <thead>\n",
       "    <tr style=\"text-align: right;\">\n",
       "      <th></th>\n",
       "      <th>User ID</th>\n",
       "      <th>No. of games played by user</th>\n",
       "    </tr>\n",
       "  </thead>\n",
       "  <tbody>\n",
       "    <tr>\n",
       "      <th>0</th>\n",
       "      <td>0</td>\n",
       "      <td>15</td>\n",
       "    </tr>\n",
       "    <tr>\n",
       "      <th>1</th>\n",
       "      <td>1</td>\n",
       "      <td>8</td>\n",
       "    </tr>\n",
       "    <tr>\n",
       "      <th>2</th>\n",
       "      <td>2</td>\n",
       "      <td>97</td>\n",
       "    </tr>\n",
       "    <tr>\n",
       "      <th>3</th>\n",
       "      <td>3</td>\n",
       "      <td>80</td>\n",
       "    </tr>\n",
       "    <tr>\n",
       "      <th>4</th>\n",
       "      <td>4</td>\n",
       "      <td>5</td>\n",
       "    </tr>\n",
       "    <tr>\n",
       "      <th>...</th>\n",
       "      <td>...</td>\n",
       "      <td>...</td>\n",
       "    </tr>\n",
       "    <tr>\n",
       "      <th>995</th>\n",
       "      <td>995</td>\n",
       "      <td>18</td>\n",
       "    </tr>\n",
       "    <tr>\n",
       "      <th>996</th>\n",
       "      <td>996</td>\n",
       "      <td>474</td>\n",
       "    </tr>\n",
       "    <tr>\n",
       "      <th>997</th>\n",
       "      <td>997</td>\n",
       "      <td>109</td>\n",
       "    </tr>\n",
       "    <tr>\n",
       "      <th>998</th>\n",
       "      <td>998</td>\n",
       "      <td>4</td>\n",
       "    </tr>\n",
       "    <tr>\n",
       "      <th>999</th>\n",
       "      <td>999</td>\n",
       "      <td>174</td>\n",
       "    </tr>\n",
       "  </tbody>\n",
       "</table>\n",
       "<p>1000 rows × 2 columns</p>\n",
       "</div>"
      ],
      "text/plain": [
       "     User ID  No. of games played by user\n",
       "0          0                           15\n",
       "1          1                            8\n",
       "2          2                           97\n",
       "3          3                           80\n",
       "4          4                            5\n",
       "..       ...                          ...\n",
       "995      995                           18\n",
       "996      996                          474\n",
       "997      997                          109\n",
       "998      998                            4\n",
       "999      999                          174\n",
       "\n",
       "[1000 rows x 2 columns]"
      ]
     },
     "execution_count": 21,
     "metadata": {},
     "output_type": "execute_result"
    }
   ],
   "source": [
    "games_played"
   ]
  },
  {
   "cell_type": "code",
   "execution_count": 22,
   "id": "4dd5a174",
   "metadata": {},
   "outputs": [],
   "source": [
    "avg_games_played = games_played['No. of games played by user'].sum()/1000"
   ]
  },
  {
   "cell_type": "code",
   "execution_count": 23,
   "id": "cb5ecdf3",
   "metadata": {},
   "outputs": [
    {
     "data": {
      "text/plain": [
       "355.266"
      ]
     },
     "execution_count": 23,
     "metadata": {},
     "output_type": "execute_result"
    }
   ],
   "source": [
    "avg_games_played"
   ]
  },
  {
   "cell_type": "markdown",
   "id": "18a9e943",
   "metadata": {},
   "source": [
    "#           "
   ]
  }
 ],
 "metadata": {
  "kernelspec": {
   "display_name": "Python 3 (ipykernel)",
   "language": "python",
   "name": "python3"
  },
  "language_info": {
   "codemirror_mode": {
    "name": "ipython",
    "version": 3
   },
   "file_extension": ".py",
   "mimetype": "text/x-python",
   "name": "python",
   "nbconvert_exporter": "python",
   "pygments_lexer": "ipython3",
   "version": "3.11.5"
  }
 },
 "nbformat": 4,
 "nbformat_minor": 5
}
